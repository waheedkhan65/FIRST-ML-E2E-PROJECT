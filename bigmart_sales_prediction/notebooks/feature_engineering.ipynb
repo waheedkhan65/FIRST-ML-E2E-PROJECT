{
 "cells": [
  {
   "cell_type": "code",
   "execution_count": null,
   "id": "faae1d9f",
   "metadata": {},
   "outputs": [],
   "source": [
    "import pandas as pd\n",
    "import os\n",
    "import category_encoders as ce\n",
    "import joblib"
   ]
  },
  {
   "cell_type": "code",
   "execution_count": null,
   "id": "c5b5ffd7",
   "metadata": {},
   "outputs": [],
   "source": [
    "df = pd.read_csv(\"data/processed/train.csv\")"
   ]
  },
  {
   "cell_type": "code",
   "execution_count": null,
   "id": "f184d683",
   "metadata": {},
   "outputs": [],
   "source": [
    "df['Item_Identifier']"
   ]
  },
  {
   "cell_type": "code",
   "execution_count": null,
   "id": "a3a0df80",
   "metadata": {},
   "outputs": [],
   "source": [
    "encoder = ce.TargetEncoder(cols=['Item_Identifier'])\n",
    "df['Item_Identifier_encoded'] = encoder.fit_transform(df['Item_Identifier'], df['Item_Outlet_Sales'])"
   ]
  },
  {
   "cell_type": "code",
   "execution_count": null,
   "id": "00ce0a28",
   "metadata": {},
   "outputs": [],
   "source": [
    "df['Item_Identifier_encoded'] = df['Item_Identifier_encoded'].astype('int')"
   ]
  },
  {
   "cell_type": "code",
   "execution_count": null,
   "id": "d85b56ab",
   "metadata": {},
   "outputs": [],
   "source": [
    "\n",
    "df[['Item_Identifier', 'Item_Identifier_encoded']]"
   ]
  },
  {
   "cell_type": "code",
   "execution_count": null,
   "id": "741ba592",
   "metadata": {},
   "outputs": [],
   "source": [
    "os.makedirs(\"artifacts/encoders\", exist_ok=True)\n",
    "\n",
    "joblib.dump(encoder, 'artifacts/encoders/item_identifier_encoder.pkl')"
   ]
  },
  {
   "cell_type": "code",
   "execution_count": null,
   "id": "b762d731",
   "metadata": {},
   "outputs": [],
   "source": [
    "\n",
    "src_column = 'Item_Type'\n",
    "target_column = f'{src_column}_encoded'\n",
    "encoder = ce.TargetEncoder(cols=[src_column])\n",
    "df[target_column] = encoder.fit_transform(df[src_column], df['Item_Outlet_Sales'])\n",
    "df[target_column] = df[target_column].astype('int')\n",
    "df[[src_column, target_column]]\n",
    "\n",
    "joblib.dump(encoder, 'artifacts/encoders/item_type_encoder.pkl')"
   ]
  },
  {
   "cell_type": "code",
   "execution_count": null,
   "id": "6f78f964",
   "metadata": {},
   "outputs": [],
   "source": [
    "\n",
    "test_df = df[src_column]"
   ]
  },
  {
   "cell_type": "code",
   "execution_count": null,
   "id": "0923f9ac",
   "metadata": {},
   "outputs": [],
   "source": [
    "\n",
    "encoder.transform(test_df)"
   ]
  },
  {
   "cell_type": "code",
   "execution_count": null,
   "id": "9d25a2af",
   "metadata": {},
   "outputs": [],
   "source": [
    "joblib.dump(encoder, 'artifacts/encoders/item_type_encoder.pkl')"
   ]
  },
  {
   "cell_type": "code",
   "execution_count": null,
   "id": "d4c8b0ce",
   "metadata": {},
   "outputs": [],
   "source": [
    "src_column = 'Item_Fat_Content'\n",
    "target_column = f'{src_column}_encoded'\n",
    "df[target_column] = df[src_column].map({\n",
    "    'Low Fat': \"LF\",\n",
    "    'Regular': \"REG\",\n",
    "    'reg': \"REG\",\n",
    "    'low fat': \"LF\"\n",
    "})\n",
    "\n",
    "df = pd.get_dummies(df, columns=[target_column], dtype=int)\n",
    "df.head()"
   ]
  },
  {
   "cell_type": "markdown",
   "id": "058fa279",
   "metadata": {},
   "source": [
    "Outlet_Location_Type"
   ]
  },
  {
   "cell_type": "code",
   "execution_count": null,
   "id": "f567733c",
   "metadata": {},
   "outputs": [],
   "source": [
    "src_column = 'Outlet_Location_Type'\n",
    "df = pd.get_dummies(df, columns=[src_column], dtype=int)\n",
    "df.head(2)"
   ]
  },
  {
   "cell_type": "markdown",
   "id": "c5852f36",
   "metadata": {},
   "source": [
    "Outlet size"
   ]
  },
  {
   "cell_type": "code",
   "execution_count": null,
   "id": "cf8f1665",
   "metadata": {},
   "outputs": [],
   "source": [
    "src_column = 'Outlet_Size'\n",
    "df = pd.get_dummies(df, columns=[src_column], dtype=int)\n",
    "df.head(2)"
   ]
  },
  {
   "cell_type": "markdown",
   "id": "176327c2",
   "metadata": {},
   "source": [
    "ooooutlet type"
   ]
  },
  {
   "cell_type": "code",
   "execution_count": null,
   "id": "8ae1abb5",
   "metadata": {},
   "outputs": [],
   "source": [
    "src_column = 'Outlet_Type'\n",
    "df = pd.get_dummies(df, columns=[src_column], dtype=int)\n",
    "df.head(2)"
   ]
  },
  {
   "cell_type": "markdown",
   "id": "b2a632de",
   "metadata": {},
   "source": [
    "IQR"
   ]
  },
  {
   "cell_type": "code",
   "execution_count": null,
   "id": "fd1f8e2d",
   "metadata": {},
   "outputs": [],
   "source": [
    "\n",
    "df.boxplot(column =['Item_Outlet_Sales'], grid = False)"
   ]
  },
  {
   "cell_type": "code",
   "execution_count": null,
   "id": "827ca1d1",
   "metadata": {},
   "outputs": [],
   "source": [
    "q1 = df['Item_Outlet_Sales'].quantile(0.25)\n",
    "q3 = df['Item_Outlet_Sales'].quantile(0.75)\n",
    "iqr = q3 - q1\n",
    "lower_bound = q1 - 1.5 * iqr\n",
    "upper_bound = q3 + 1.5 * iqr\n",
    "\n",
    "df['Sales'] = df['Item_Outlet_Sales'].clip(lower=lower_bound, upper=upper_bound)"
   ]
  },
  {
   "cell_type": "code",
   "execution_count": null,
   "id": "29e5c735",
   "metadata": {},
   "outputs": [],
   "source": [
    "df.head(2)"
   ]
  },
  {
   "cell_type": "code",
   "execution_count": null,
   "id": "09a0f507",
   "metadata": {},
   "outputs": [],
   "source": [
    "from matplotlib import pyplot as plt\n",
    "\n",
    "\n",
    "df.boxplot(column =['Sales'], grid = False)\n",
    "\n",
    "plt.show()"
   ]
  },
  {
   "cell_type": "code",
   "execution_count": null,
   "id": "2ba51b2c",
   "metadata": {},
   "outputs": [],
   "source": [
    "df.describe()"
   ]
  },
  {
   "cell_type": "code",
   "execution_count": 3,
   "id": "b419383c",
   "metadata": {},
   "outputs": [],
   "source": [
    "processed_columns = [\n",
    "    'Item_Weight',\n",
    "    'Item_Visibility',\n",
    "    'Item_MRP',\n",
    "    'Outlet_Establishment_Year',\n",
    "    'Item_Identifier_encoded',\n",
    " 'Item_Type_encoded',\n",
    " 'Item_Fat_Content_encoded_LF',\n",
    " 'Item_Fat_Content_encoded_REG',\n",
    " 'Item_Fat_Content_encoded_LF',\n",
    " 'Item_Fat_Content_encoded_REG',\n",
    " 'Outlet_Location_Type_Tier 1',\n",
    " 'Outlet_Location_Type_Tier 2',\n",
    " 'Outlet_Location_Type_Tier 3',\n",
    " 'Outlet_Size_High',\n",
    " 'Outlet_Size_Medium',\n",
    " 'Outlet_Size_Small',\n",
    " 'Outlet_Type_Grocery Store',\n",
    " 'Outlet_Type_Supermarket Type1',\n",
    " 'Outlet_Type_Supermarket Type2',\n",
    " 'Outlet_Type_Supermarket Type3',\n",
    " 'Sales'\n",
    "]"
   ]
  },
  {
   "cell_type": "code",
   "execution_count": null,
   "id": "da2c1ca1",
   "metadata": {},
   "outputs": [],
   "source": [
    "df_processed = df[processed_columns]"
   ]
  },
  {
   "cell_type": "code",
   "execution_count": null,
   "id": "f56e7b95",
   "metadata": {},
   "outputs": [],
   "source": [
    "df_processed.isnull().sum()"
   ]
  },
  {
   "cell_type": "code",
   "execution_count": null,
   "id": "9156cce5",
   "metadata": {},
   "outputs": [],
   "source": [
    "df['Item_Weight'] = df['Item_Weight'].fillna(df['Item_Weight'].mean())"
   ]
  },
  {
   "cell_type": "code",
   "execution_count": null,
   "id": "090ccb1f",
   "metadata": {},
   "outputs": [],
   "source": [
    "df.to_csv(\"data/processed/train.csv\", index=False)"
   ]
  }
 ],
 "metadata": {
  "kernelspec": {
   "display_name": ".venv",
   "language": "python",
   "name": "python3"
  },
  "language_info": {
   "codemirror_mode": {
    "name": "ipython",
    "version": 3
   },
   "file_extension": ".py",
   "mimetype": "text/x-python",
   "name": "python",
   "nbconvert_exporter": "python",
   "pygments_lexer": "ipython3",
   "version": "3.13.3"
  }
 },
 "nbformat": 4,
 "nbformat_minor": 5
}
